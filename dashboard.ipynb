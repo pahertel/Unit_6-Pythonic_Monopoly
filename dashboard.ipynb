{
 "cells": [
  {
   "cell_type": "markdown",
   "metadata": {},
   "source": [
    "# San Francisco Rental Prices Dashboard\n",
    "\n",
    "In this notebook, you will compile the visualizations from the previous analysis into functions that can be used for a Panel dashboard."
   ]
  },
  {
   "cell_type": "code",
   "execution_count": 6,
   "metadata": {},
   "outputs": [],
   "source": [
    "# imports\n",
    "import panel as pn\n",
    "pn.extension('plotly')\n",
    "import plotly.express as px\n",
    "import pandas as pd\n",
    "import hvplot.pandas\n",
    "import matplotlib.pyplot as plt\n",
    "import os\n",
    "from pathlib import Path\n",
    "from dotenv import load_dotenv"
   ]
  },
  {
   "cell_type": "code",
   "execution_count": 7,
   "metadata": {},
   "outputs": [],
   "source": [
    "# Read the Mapbox API key\n",
    "load_dotenv()\n",
    "mapbox_token = os.getenv(\"MAPBOX_API_KEY\")"
   ]
  },
  {
   "cell_type": "markdown",
   "metadata": {},
   "source": [
    "# Import Data"
   ]
  },
  {
   "cell_type": "code",
   "execution_count": 8,
   "metadata": {},
   "outputs": [],
   "source": [
    "# Import the CSVs to Pandas DataFrames\n",
    "file_path = Path(\"Data/sfo_neighborhoods_census_data.csv\")\n",
    "sfo_data = pd.read_csv(file_path, index_col=\"year\")\n",
    "\n",
    "file_path = Path(\"Data/neighborhoods_coordinates.csv\")\n",
    "df_neighborhood_locations = pd.read_csv(file_path)"
   ]
  },
  {
   "cell_type": "markdown",
   "metadata": {},
   "source": [
    "- - -"
   ]
  },
  {
   "cell_type": "markdown",
   "metadata": {},
   "source": [
    "## Panel Visualizations\n",
    "\n",
    "In this section, you will copy the code for each plot type from your analysis notebook and place it into separate functions that Panel can use to create panes for the dashboard. \n",
    "\n",
    "These functions will convert the plot object to a Panel pane.\n",
    "\n",
    "Be sure to include any DataFrame transformation/manipulation code required along with the plotting code.\n",
    "\n",
    "Return a Panel pane object from each function that can be used to build the dashboard.\n",
    "\n",
    "Note: Remove any `.show()` lines from the code. We want to return the plots instead of showing them. The Panel dashboard will then display the plots."
   ]
  },
  {
   "cell_type": "code",
   "execution_count": 18,
   "metadata": {},
   "outputs": [],
   "source": [
    "# Define Panel Visualization Functions\n",
    "def housing_units_per_year():\n",
    "    \"\"\"Housing Units Per Year.\"\"\"\n",
    "    \n",
    "    # YOUR CODE HERE!\n",
    "\n",
    "# Use the Pandas plot function to plot the average housing units per year.\n",
    "# Note: You will need to manually adjust the y limit of the chart using the min and max values from above.\n",
    "    houseing_units = plt.figure()\n",
    "    plt = mean_unitis_per_year.plot(kind='bar', title = 'Housing Units in San Francisco from 2010 to 2016')\n",
    "    plt.set_xlabel('Year')\n",
    "    plt.set_ylabel('Housing Units')\n",
    "    plt.set_title('Housing Units in San Francisco from 2010 to 2016', fontweight = 'bold')\n",
    "\n",
    "\n",
    "# Optional Challenge: Use the min, max, and std to scale the y limits of the chart\n",
    "    plt_min = mean_unitis_per_year.min()\n",
    "    plt_max = mean_unitis_per_year.max()\n",
    "\n",
    "    plt.set_ylim\n",
    "    plt_std = mean_unitis_per_year.std()\n",
    "    plt.set_ylim(plt_min - plt_std, plt_max + plt_std)\n",
    "    plt.close(houseing_units)\n",
    "    \n",
    "    return houseing_units\n",
    "    \n",
    "def average_gross_rent():\n",
    "    \"\"\"Average Gross Rent in San Francisco Per Year.\"\"\"\n",
    "    \n",
    "    # YOUR CODE HERE!\n",
    "# Plot the Average Gross Rent per Year as a Line Chart\n",
    "    gross_rent = avg_gross_rent.figure()\n",
    "    avg_gross_rent = avg_rent_sqr_ft['gross_rent'].plot(title = 'Average Gross Rent in San Francisco')\n",
    "    avg_gross_rent.set_xlabel(\"Year\")\n",
    "    avg_gross_rent.set_ylabel(\"Gross Rent\")\n",
    "    return gross_rent\n",
    "\n",
    "def average_sales_price():\n",
    "    \"\"\"Average Sales Price Per Year.\"\"\"\n",
    "    \n",
    "    # YOUR CODE HERE!\n",
    "# Plot the Average Sales Price per Year as a line chart\n",
    "    sqr_ft = avg_sqr_ft.figure()\n",
    "    avg_sqr_ft = avg_rent_sqr_ft['sale_price_sqr_foot'].plot(title = 'Average Sale Price per Square Foot in San Francisco')\n",
    "    avg_sqr_ft.set_xlabel(\"Year\")\n",
    "    avg_sqr_ft.set_ylabel(\"Sale Price Sqr Foot\")\n",
    "    return sqr_ft\n",
    "\n",
    "def average_price_by_neighborhood():\n",
    "    \"\"\"Average Prices by Neighborhood.\"\"\"\n",
    "    \n",
    "    # YOUR CODE HERE!\n",
    "# Use hvplot to create an interactive line chart of the average price per sq ft.\n",
    "# The plot should have a dropdown selector for the neighborhood\n",
    "    neighborhood = inter_lc_avg_pr_sqr_ft.figure()\n",
    "    inter_lc_avg_pr_sqr_ft = grp_neighborhood.hvplot(x='year', y='sale_price_sqr_foot', groupby='neighborhood')\n",
    "    return neighborhood\n",
    "\n",
    "def top_most_expensive_neighborhoods():\n",
    "    \"\"\"Top 10 Most Expensive Neighborhoods.\"\"\"\n",
    "    \n",
    "    # YOUR CODE HERE!\n",
    "# Getting the data from the top 10 expensive neighborhoods\n",
    "    grp_neighborhood_year = sfo_data.groupby(['neighborhood'], as_index = False).mean()\n",
    "    top_10_expen_neighb = grp_neighborhood_year.nlargest(10, 'sale_price_sqr_foot')\n",
    "    top_10_expen_neighb\n",
    "# Plotting the data from the top 10 expensive neighborhoods\n",
    "    top_10_expen = top_10_expen_neighb_plot.figure()\n",
    "    top_10_expen_neighb_plot = top_10_expen_neighb.hvplot.bar(\n",
    "        x = 'neighborhood',\n",
    "        y = 'sale_price_sqr_foot',\n",
    "        rot = 90,\n",
    "        title = 'Top 10 Expensive Neighborhoods in SFO',\n",
    "        xlabel = \"Neighborhood\",\n",
    "        ylabel = \"Avg. Sale Price per Square Foot\"\n",
    "    )\n",
    "    return top_10_expen\n",
    "\n",
    "def parallel_coordinates():\n",
    "    \"\"\"Parallel Coordinates Plot.\"\"\"\n",
    "    \n",
    "    # YOUR CODE HERE!\n",
    "# Parallel Coordinates Plot\n",
    "    parallel_coordinates = px.parallel_coordinates(\n",
    "        top_10_expen_neighb,\n",
    "        dimensions = ['sale_price_sqr_foot', 'housing_units', 'gross_rent'],\n",
    "        color = 'sale_price_sqr_foot')\n",
    "    return parallel_coordinates\n",
    "\n",
    "def parallel_categories():\n",
    "    \"\"\"Parallel Categories Plot.\"\"\"\n",
    "    \n",
    "    # YOUR CODE HERE!\n",
    "# Parallel Categories Plot\n",
    "    parallel_categories = px.parallel_categories(\n",
    "        top_10_expen_neighb,\n",
    "        dimensions = ['neighborhood', 'sale_price_sqr_foot', 'housing_units', 'gross_rent'],\n",
    "        color =  'sale_price_sqr_foot'\n",
    "    )\n",
    "    return parallel_categories\n",
    "def neighborhood_map():\n",
    "    \"\"\"Neighborhood Map\"\"\"\n",
    "    \n",
    "    # YOUR CODE HERE!\n",
    "# Create a scatter mapbox to analyze neighborhood info\n",
    "    px.set_mapbox_access_token(mapbox_token)\n",
    "    neighb_loca_price_plot = px.scatter_mapbox(\n",
    "        combined_mean_locations,\n",
    "        lat = \"Lat\",\n",
    "        lon = \"Lon\",\n",
    "        size = \"sale_price_sqr_foot\",\n",
    "        color = \"gross_rent\",\n",
    "        title = \"Average Sale Price Per Square Foot and Gross Rent in San Francisco\",\n",
    "        zoom = 10\n",
    "    )\n",
    "    return neighb_loca_price_plot"
   ]
  },
  {
   "cell_type": "markdown",
   "metadata": {},
   "source": [
    "## Panel Dashboard\n",
    "\n",
    "In this section, you will combine all of the plots into a single dashboard view using Panel. Be creative with your dashboard design!"
   ]
  },
  {
   "cell_type": "code",
   "execution_count": 22,
   "metadata": {},
   "outputs": [
    {
     "ename": "NameError",
     "evalue": "name 'neighb_loca_price_plot' is not defined",
     "output_type": "error",
     "traceback": [
      "\u001b[1;31m---------------------------------------------------------------------------\u001b[0m",
      "\u001b[1;31mNameError\u001b[0m                                 Traceback (most recent call last)",
      "\u001b[1;32m<ipython-input-22-2577d1464d83>\u001b[0m in \u001b[0;36m<module>\u001b[1;34m\u001b[0m\n\u001b[0;32m      1\u001b[0m \u001b[1;31m# YOUR CODE HERE!\u001b[0m\u001b[1;33m\u001b[0m\u001b[1;33m\u001b[0m\u001b[1;33m\u001b[0m\u001b[0m\n\u001b[1;32m----> 2\u001b[1;33m \u001b[0mhome_neighb_loca_price_plot\u001b[0m \u001b[1;33m=\u001b[0m \u001b[0mpn\u001b[0m\u001b[1;33m.\u001b[0m\u001b[0mColumn\u001b[0m\u001b[1;33m(\u001b[0m\u001b[0mneighb_loca_price_plot\u001b[0m\u001b[1;33m(\u001b[0m\u001b[1;33m)\u001b[0m\u001b[1;33m)\u001b[0m\u001b[1;33m\u001b[0m\u001b[1;33m\u001b[0m\u001b[0m\n\u001b[0m\u001b[0;32m      3\u001b[0m \u001b[0mtab_houseing_units\u001b[0m \u001b[1;33m=\u001b[0m \u001b[0mpn\u001b[0m\u001b[1;33m.\u001b[0m\u001b[0mColumn\u001b[0m\u001b[1;33m(\u001b[0m\u001b[0mhouseing_units\u001b[0m\u001b[1;33m(\u001b[0m\u001b[1;33m)\u001b[0m\u001b[1;33m)\u001b[0m\u001b[1;33m\u001b[0m\u001b[1;33m\u001b[0m\u001b[0m\n\u001b[0;32m      4\u001b[0m \u001b[0mtab_avg_rent\u001b[0m \u001b[1;33m=\u001b[0m \u001b[0mpn\u001b[0m\u001b[1;33m.\u001b[0m\u001b[0mColumn\u001b[0m\u001b[1;33m(\u001b[0m\u001b[0mgross_rent\u001b[0m\u001b[1;33m(\u001b[0m\u001b[1;33m)\u001b[0m\u001b[1;33m,\u001b[0m\u001b[0msqr_ft\u001b[0m\u001b[1;33m(\u001b[0m\u001b[1;33m)\u001b[0m\u001b[1;33m)\u001b[0m\u001b[1;33m\u001b[0m\u001b[1;33m\u001b[0m\u001b[0m\n\u001b[0;32m      5\u001b[0m \u001b[0mtab_parallel\u001b[0m \u001b[1;33m=\u001b[0m \u001b[0mpn\u001b[0m\u001b[1;33m.\u001b[0m\u001b[0mColumn\u001b[0m\u001b[1;33m(\u001b[0m\u001b[0mparallel_coordinates\u001b[0m\u001b[1;33m(\u001b[0m\u001b[1;33m)\u001b[0m\u001b[1;33m,\u001b[0m\u001b[0mparallel_categories\u001b[0m\u001b[1;33m(\u001b[0m\u001b[1;33m)\u001b[0m\u001b[1;33m)\u001b[0m\u001b[1;33m\u001b[0m\u001b[1;33m\u001b[0m\u001b[0m\n",
      "\u001b[1;31mNameError\u001b[0m: name 'neighb_loca_price_plot' is not defined"
     ]
    }
   ],
   "source": [
    "# YOUR CODE HERE!\n",
    "home_neighb_loca_price_plot = pn.Column(neighb_loca_price_plot())\n",
    "tab_houseing_units = pn.Column(houseing_units())\n",
    "tab_avg_rent = pn.Column(gross_rent(),sqr_ft())\n",
    "tab_parallel = pn.Column(parallel_coordinates(),parallel_categories())\n",
    "\n",
    "panel = pn.Tabs(\n",
    "    (\"Home\", home_neighb_loca_price_plot)\n",
    "    (\"Housing Units\", tab_houseing_units)\n",
    "    (\"Average Price\", tab_avg_rent)\n",
    "    (\"Average Price\", tab_parallel)  \n",
    ") \n",
    "\n",
    "\n"
   ]
  },
  {
   "cell_type": "markdown",
   "metadata": {},
   "source": [
    "## Serve the Panel Dashboard"
   ]
  },
  {
   "cell_type": "code",
   "execution_count": 23,
   "metadata": {},
   "outputs": [
    {
     "ename": "NameError",
     "evalue": "name 'panel' is not defined",
     "output_type": "error",
     "traceback": [
      "\u001b[1;31m---------------------------------------------------------------------------\u001b[0m",
      "\u001b[1;31mNameError\u001b[0m                                 Traceback (most recent call last)",
      "\u001b[1;32m<ipython-input-23-7ea6f3083eaf>\u001b[0m in \u001b[0;36m<module>\u001b[1;34m\u001b[0m\n\u001b[1;32m----> 1\u001b[1;33m \u001b[0mpanel\u001b[0m\u001b[1;33m.\u001b[0m\u001b[0mservable\u001b[0m\u001b[1;33m(\u001b[0m\u001b[1;33m)\u001b[0m\u001b[1;33m\u001b[0m\u001b[1;33m\u001b[0m\u001b[0m\n\u001b[0m",
      "\u001b[1;31mNameError\u001b[0m: name 'panel' is not defined"
     ]
    }
   ],
   "source": [
    "panel.servable()"
   ]
  },
  {
   "cell_type": "code",
   "execution_count": null,
   "metadata": {},
   "outputs": [],
   "source": []
  }
 ],
 "metadata": {
  "file_extension": ".py",
  "kernelspec": {
   "display_name": "Python 3",
   "language": "python",
   "name": "python3"
  },
  "language_info": {
   "codemirror_mode": {
    "name": "ipython",
    "version": 3
   },
   "file_extension": ".py",
   "mimetype": "text/x-python",
   "name": "python",
   "nbconvert_exporter": "python",
   "pygments_lexer": "ipython3",
   "version": "3.7.7"
  },
  "mimetype": "text/x-python",
  "name": "python",
  "npconvert_exporter": "python",
  "pygments_lexer": "ipython3",
  "version": 3
 },
 "nbformat": 4,
 "nbformat_minor": 4
}
